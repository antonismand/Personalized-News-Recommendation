{
 "cells": [
  {
   "cell_type": "markdown",
   "metadata": {},
   "source": [
    "# Performance \n",
    "Execution times for the multi armed bandit algorithms - Experiments run on a Macbook Air M1"
   ]
  },
  {
   "cell_type": "code",
   "execution_count": 1,
   "metadata": {},
   "outputs": [
    {
     "data": {
      "text/plain": [
       "'/Users/antonismand/Desktop/Personalized-News-Recommendation'"
      ]
     },
     "execution_count": 1,
     "metadata": {},
     "output_type": "execute_result"
    }
   ],
   "source": [
    "import os\n",
    "os.chdir('..')\n",
    "os.getcwd()"
   ]
  },
  {
   "cell_type": "code",
   "execution_count": 2,
   "metadata": {
    "pycharm": {
     "is_executing": false,
     "name": "#%%\n"
    }
   },
   "outputs": [],
   "source": [
    "%load_ext autoreload\n",
    "%autoreload 2\n",
    "from bandits import *\n",
    "from evaluator import evaluate\n",
    "import dataset"
   ]
  },
  {
   "cell_type": "code",
   "execution_count": 3,
   "metadata": {},
   "outputs": [
    {
     "name": "stdout",
     "output_type": "stream",
     "text": [
      "3966363 events with 39 articles\n",
      "CPU times: user 1min 21s, sys: 2.08 s, total: 1min 23s\n",
      "Wall time: 1min 23s\n"
     ]
    }
   ],
   "source": [
    "%%time\n",
    "import dataset\n",
    "files = (\"dataset/R6/ydata-fp-td-clicks-v1_0.20090503\")\n",
    "dataset.get_yahoo_events(files)"
   ]
  },
  {
   "cell_type": "code",
   "execution_count": 6,
   "metadata": {
    "pycharm": {
     "is_executing": false,
     "name": "#%%\n"
    }
   },
   "outputs": [
    {
     "name": "stdout",
     "output_type": "stream",
     "text": [
      "Egreedy (ε=0.1)     0.0397    10.2s\n",
      "TS                  0.0421    45.4s\n",
      "UCB1 (α=0.1)        0.0421    21.9s\n",
      "LinUCB (α=0.3, context:both)0.0531    3.0m\n",
      "LinUCB (α=0.3, context:user)0.0521    2.9m\n"
     ]
    }
   ],
   "source": [
    "tests = [Egreedy(0.1),ThompsonSampling(),Ucb1(0.1),LinUCB(0.3, context=\"both\"), LinUCB(0.3,context=\"user\")]\n",
    "\n",
    "for test in tests:\n",
    "    _,_ = evaluate(test)   "
   ]
  }
 ],
 "metadata": {
  "interpreter": {
   "hash": "34388d6b87bba4426978a16859b0088fa246685f31b06184b3a0d34079f30fb0"
  },
  "kernelspec": {
   "display_name": "Python 3.8.8 64-bit ('thesis': conda)",
   "name": "python3"
  },
  "language_info": {
   "codemirror_mode": {
    "name": "ipython",
    "version": 3
   },
   "file_extension": ".py",
   "mimetype": "text/x-python",
   "name": "python",
   "nbconvert_exporter": "python",
   "pygments_lexer": "ipython3",
   "version": "3.8.8"
  },
  "pycharm": {
   "stem_cell": {
    "cell_type": "raw",
    "metadata": {
     "collapsed": false
    },
    "source": []
   }
  }
 },
 "nbformat": 4,
 "nbformat_minor": 1
}
